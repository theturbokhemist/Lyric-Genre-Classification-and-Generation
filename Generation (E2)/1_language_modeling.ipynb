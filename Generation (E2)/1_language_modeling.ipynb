{
 "cells": [
  {
   "cell_type": "code",
   "execution_count": 1,
   "metadata": {},
   "outputs": [],
   "source": [
    "%load_ext autoreload\n",
    "%autoreload 2"
   ]
  },
  {
   "cell_type": "code",
   "execution_count": 2,
   "metadata": {},
   "outputs": [
    {
     "name": "stderr",
     "output_type": "stream",
     "text": [
      "/home/local_arnab/miniconda3/envs/tensorflow/lib/python3.9/site-packages/tqdm/auto.py:21: TqdmWarning: IProgress not found. Please update jupyter and ipywidgets. See https://ipywidgets.readthedocs.io/en/stable/user_install.html\n",
      "  from .autonotebook import tqdm as notebook_tqdm\n"
     ]
    }
   ],
   "source": [
    "import pandas as pd\n",
    "import torch\n",
    "import numpy as np\n",
    "from tqdm.auto import tqdm\n",
    "\n",
    "from preprocessing import tokenize, embeddings"
   ]
  },
  {
   "attachments": {},
   "cell_type": "markdown",
   "metadata": {},
   "source": [
    "## Loading Data"
   ]
  },
  {
   "cell_type": "code",
   "execution_count": 3,
   "metadata": {},
   "outputs": [
    {
     "name": "stdout",
     "output_type": "stream",
     "text": [
      "(80285, 4)\n"
     ]
    },
    {
     "data": {
      "text/html": [
       "<div>\n",
       "<style scoped>\n",
       "    .dataframe tbody tr th:only-of-type {\n",
       "        vertical-align: middle;\n",
       "    }\n",
       "\n",
       "    .dataframe tbody tr th {\n",
       "        vertical-align: top;\n",
       "    }\n",
       "\n",
       "    .dataframe thead th {\n",
       "        text-align: right;\n",
       "    }\n",
       "</style>\n",
       "<table border=\"1\" class=\"dataframe\">\n",
       "  <thead>\n",
       "    <tr style=\"text-align: right;\">\n",
       "      <th></th>\n",
       "      <th>Artist</th>\n",
       "      <th>Song</th>\n",
       "      <th>Lyrics</th>\n",
       "      <th>Genre</th>\n",
       "    </tr>\n",
       "  </thead>\n",
       "  <tbody>\n",
       "    <tr>\n",
       "      <th>0</th>\n",
       "      <td>Britney Spears</td>\n",
       "      <td>...Baby One More Time</td>\n",
       "      <td>Oh, baby, baby Oh, baby, baby  Oh, baby, baby...</td>\n",
       "      <td>Pop</td>\n",
       "    </tr>\n",
       "    <tr>\n",
       "      <th>1</th>\n",
       "      <td>Britney Spears</td>\n",
       "      <td>Toxic</td>\n",
       "      <td>Baby, can't you see I'm calling? A guy like y...</td>\n",
       "      <td>Pop</td>\n",
       "    </tr>\n",
       "    <tr>\n",
       "      <th>2</th>\n",
       "      <td>Britney Spears</td>\n",
       "      <td>Work Bitch</td>\n",
       "      <td>You wanna? You wanna?  You want a hot body? Y...</td>\n",
       "      <td>Pop</td>\n",
       "    </tr>\n",
       "    <tr>\n",
       "      <th>3</th>\n",
       "      <td>Britney Spears</td>\n",
       "      <td>Oops!... I Did It Again</td>\n",
       "      <td>Mmm, yeah Yeah, yeah, yeah, yeah, yeah, yeah ...</td>\n",
       "      <td>Pop</td>\n",
       "    </tr>\n",
       "    <tr>\n",
       "      <th>4</th>\n",
       "      <td>Britney Spears</td>\n",
       "      <td>If U Seek Amy</td>\n",
       "      <td>La, la, la, la, la-la, la, la La, la, la, la,...</td>\n",
       "      <td>Pop</td>\n",
       "    </tr>\n",
       "  </tbody>\n",
       "</table>\n",
       "</div>"
      ],
      "text/plain": [
       "           Artist                     Song  \\\n",
       "0  Britney Spears    ...Baby One More Time   \n",
       "1  Britney Spears                    Toxic   \n",
       "2  Britney Spears               Work Bitch   \n",
       "3  Britney Spears  Oops!... I Did It Again   \n",
       "4  Britney Spears            If U Seek Amy   \n",
       "\n",
       "                                              Lyrics Genre  \n",
       "0   Oh, baby, baby Oh, baby, baby  Oh, baby, baby...   Pop  \n",
       "1   Baby, can't you see I'm calling? A guy like y...   Pop  \n",
       "2   You wanna? You wanna?  You want a hot body? Y...   Pop  \n",
       "3   Mmm, yeah Yeah, yeah, yeah, yeah, yeah, yeah ...   Pop  \n",
       "4   La, la, la, la, la-la, la, la La, la, la, la,...   Pop  "
      ]
     },
     "execution_count": 3,
     "metadata": {},
     "output_type": "execute_result"
    }
   ],
   "source": [
    "df = pd.read_csv(\"Data/df_lyrics.csv\")\n",
    "print(df.shape)\n",
    "df.head()"
   ]
  },
  {
   "cell_type": "code",
   "execution_count": 4,
   "metadata": {},
   "outputs": [
    {
     "name": "stdout",
     "output_type": "stream",
     "text": [
      "Pop 18275\n",
      "Rock 21962\n",
      "Country 21717\n",
      "Rap 18331\n"
     ]
    }
   ],
   "source": [
    "for genre in set(df.Genre):\n",
    "    print(genre, df[df.Genre == genre].shape[0])"
   ]
  },
  {
   "attachments": {},
   "cell_type": "markdown",
   "metadata": {},
   "source": [
    "## Preprocessing"
   ]
  },
  {
   "cell_type": "code",
   "execution_count": 5,
   "metadata": {},
   "outputs": [
    {
     "name": "stderr",
     "output_type": "stream",
     "text": [
      "2023-04-17 19:15:52.563054: I tensorflow/stream_executor/platform/default/dso_loader.cc:49] Successfully opened dynamic library libcudart.so.10.1\n"
     ]
    },
    {
     "data": {
      "text/plain": [
       "{'tokens': [['<s>', 'I', '_am', '_a', '_little', '_te', 'ap', 'ot', '</s>']],\n",
       " 'token_ids': [[0, 432, 51, 57, 778, 2153, 1821, 6834, 87]]}"
      ]
     },
     "execution_count": 5,
     "metadata": {},
     "output_type": "execute_result"
    }
   ],
   "source": [
    "tokenizer = tokenize.Tokenizer()\n",
    "tokenizer.load(path = \"Weights/tokenizer.json\")\n",
    "tokenizer.tokenize(\"I'm a little teapot\", get_token_ids=True)"
   ]
  },
  {
   "cell_type": "code",
   "execution_count": 6,
   "metadata": {},
   "outputs": [],
   "source": [
    "##########################################################\n",
    "MAX_LENGTH = 1024  # max context length for the tokenizer\n",
    "##########################################################\n",
    "lyrics = [l[:min(len(l), MAX_LENGTH)] for l in list(df[\"Lyrics\"])]\n",
    "\n",
    "proprocessed_lyrics = tokenizer.tokenize(lyrics, get_token_ids=True)"
   ]
  },
  {
   "cell_type": "code",
   "execution_count": 7,
   "metadata": {},
   "outputs": [
    {
     "data": {
      "text/plain": [
       "80285"
      ]
     },
     "execution_count": 7,
     "metadata": {},
     "output_type": "execute_result"
    }
   ],
   "source": [
    "lyrics_token_ids = proprocessed_lyrics[\"token_ids\"]\n",
    "len(lyrics_token_ids)"
   ]
  },
  {
   "cell_type": "code",
   "execution_count": 8,
   "metadata": {},
   "outputs": [
    {
     "name": "stdout",
     "output_type": "stream",
     "text": [
      "45000 15000 20285\n"
     ]
    }
   ],
   "source": [
    "shuffle_idx = np.random.permutation(len(lyrics_token_ids))\n",
    "\n",
    "####################################################################\n",
    "training_size = 45000\n",
    "validation_size = 15000\n",
    "test_size = len(lyrics_token_ids) - training_size - validation_size\n",
    "####################################################################\n",
    "\n",
    "training_data = [lyrics_token_ids[i] for i in shuffle_idx[:training_size]]\n",
    "validation_data = [lyrics_token_ids[i] for i in shuffle_idx[training_size : training_size + validation_size]]\n",
    "test_data = [lyrics_token_ids[i] for i in shuffle_idx[training_size + validation_size : ]]\n",
    "\n",
    "print(len(training_data), len(validation_data), len(test_data))"
   ]
  },
  {
   "cell_type": "code",
   "execution_count": 9,
   "metadata": {},
   "outputs": [],
   "source": [
    "embedder = embeddings.Embedding()\n",
    "embedder.load(\"Weights/embeddings_300_w2v.txt\")"
   ]
  },
  {
   "cell_type": "code",
   "execution_count": 10,
   "metadata": {},
   "outputs": [
    {
     "data": {
      "text/plain": [
       "300"
      ]
     },
     "execution_count": 10,
     "metadata": {},
     "output_type": "execute_result"
    }
   ],
   "source": [
    "embedder.embeddings_size"
   ]
  },
  {
   "cell_type": "code",
   "execution_count": 11,
   "metadata": {},
   "outputs": [
    {
     "data": {
      "text/plain": [
       "39903"
      ]
     },
     "execution_count": 11,
     "metadata": {},
     "output_type": "execute_result"
    }
   ],
   "source": [
    "embedder.vocab_size"
   ]
  },
  {
   "cell_type": "code",
   "execution_count": 12,
   "metadata": {},
   "outputs": [
    {
     "data": {
      "text/plain": [
       "torch.Size([39903, 300])"
      ]
     },
     "execution_count": 12,
     "metadata": {},
     "output_type": "execute_result"
    }
   ],
   "source": [
    "embedding_matrix = []\n",
    "\n",
    "for idx in tokenizer.index_word:\n",
    "    word = tokenizer.index_word[idx]\n",
    "    vec = embedder.model.get_vector(word)\n",
    "    embedding_matrix.append(torch.tensor(vec))\n",
    "\n",
    "embedding_matrix = torch.stack(embedding_matrix)\n",
    "embedding_matrix.shape"
   ]
  },
  {
   "attachments": {},
   "cell_type": "markdown",
   "metadata": {},
   "source": [
    "## Modeling"
   ]
  },
  {
   "cell_type": "code",
   "execution_count": 13,
   "metadata": {},
   "outputs": [],
   "source": [
    "from modeling.models import RNN, LSTM, GRU\n",
    "from modeling.model_utils import get_fresh_initial_hidden_states, get_parameter_count"
   ]
  },
  {
   "cell_type": "code",
   "execution_count": 14,
   "metadata": {},
   "outputs": [
    {
     "data": {
      "text/plain": [
       "GRU(\n",
       "  (word_embeddings): Embedding(39903, 300)\n",
       "  (dropout): Dropout(p=0.1, inplace=False)\n",
       "  (gru): GRU(300, 1200, num_layers=2, batch_first=True, dropout=0.1)\n",
       "  (decoder): Linear(in_features=1200, out_features=39903, bias=True)\n",
       ")"
      ]
     },
     "execution_count": 14,
     "metadata": {},
     "output_type": "execute_result"
    }
   ],
   "source": [
    "device = \"cuda:0\" if torch.cuda.is_available() else \"cpu\"\n",
    "\n",
    "###################################################################################\n",
    "model = GRU( # <--- Change this to LSTM or RNN to try out the other models\n",
    "    embedding_dim = embedder.embeddings_size,\n",
    "    hidden_dim = 4 * embedder.embeddings_size,\n",
    "    vocab_size = embedder.vocab_size,\n",
    "    pretrained_embeddings = embedding_matrix,\n",
    ")\n",
    "###################################################################################\n",
    "\n",
    "model.to(device)"
   ]
  },
  {
   "cell_type": "code",
   "execution_count": 15,
   "metadata": {},
   "outputs": [
    {
     "data": {
      "text/plain": [
       "73948803"
      ]
     },
     "execution_count": 15,
     "metadata": {},
     "output_type": "execute_result"
    }
   ],
   "source": [
    "get_parameter_count(model)"
   ]
  },
  {
   "attachments": {},
   "cell_type": "markdown",
   "metadata": {},
   "source": [
    "#### Checking if Word2Vec embeddings has been used to initialize the `encoder` module of the model."
   ]
  },
  {
   "cell_type": "code",
   "execution_count": 16,
   "metadata": {},
   "outputs": [
    {
     "name": "stdout",
     "output_type": "stream",
     "text": [
      "torch.Size([39903, 300])\n",
      "(300,) torch.Size([300])\n"
     ]
    },
    {
     "data": {
      "text/plain": [
       "'Initalized embeddings are the same as the pretrained embeddings'"
      ]
     },
     "execution_count": 16,
     "metadata": {},
     "output_type": "execute_result"
    }
   ],
   "source": [
    "model_embedder = model.word_embeddings\n",
    "for p in model_embedder.parameters():\n",
    "    print(p.shape)\n",
    "\n",
    "word = \"hello\"\n",
    "emb1 = embedder.model.get_vector(word)\n",
    "emb2 = model_embedder(torch.tensor(tokenizer.word_index[word]).to(device))\n",
    "\n",
    "print(emb1.shape, emb2.shape)\n",
    "\n",
    "assert(torch.isclose(torch.dist(torch.tensor(emb1).to(device), emb2), torch.tensor(0.0))), \"Embedding initialization is wrong\"\n",
    "\n",
    "\"Initalized embeddings are the same as the pretrained embeddings\""
   ]
  },
  {
   "cell_type": "code",
   "execution_count": null,
   "metadata": {},
   "outputs": [],
   "source": []
  },
  {
   "cell_type": "code",
   "execution_count": 17,
   "metadata": {},
   "outputs": [
    {
     "data": {
      "text/plain": [
       "torch.Size([5, 270])"
      ]
     },
     "execution_count": 17,
     "metadata": {},
     "output_type": "execute_result"
    }
   ],
   "source": [
    "tokenized = tokenizer.tokenize(lyrics[0:5], get_token_ids=True)[\"token_ids\"]\n",
    "min_length = np.array([len(t) for t in tokenized]).min()\n",
    "batch = torch.stack(\n",
    "    [torch.tensor(t[:min_length]) for t in tokenized]\n",
    ")\n",
    "batch.shape"
   ]
  },
  {
   "cell_type": "code",
   "execution_count": 18,
   "metadata": {},
   "outputs": [
    {
     "data": {
      "text/plain": [
       "(torch.Size([5, 1, 39903]), torch.Size([2, 5, 1200]))"
      ]
     },
     "execution_count": 18,
     "metadata": {},
     "output_type": "execute_result"
    }
   ],
   "source": [
    "# y, h = rnn(\n",
    "#     input = torch.tensor([[tokenizer.word_index[word]]]).to(device), \n",
    "#     hidden = torch.zeros(8, 1, model.hidden_dim).to(device)\n",
    "# )\n",
    "\n",
    "y, h = model(\n",
    "    # input = batch.to(device),\n",
    "    input = batch[:, 10][None].T.to(device),\n",
    "    hidden = get_fresh_initial_hidden_states(model, batch_size=batch.shape[0])\n",
    ")\n",
    "\n",
    "y.shape, h.shape"
   ]
  },
  {
   "cell_type": "code",
   "execution_count": 19,
   "metadata": {},
   "outputs": [
    {
     "data": {
      "text/plain": [
       "torch.Size([5, 1])"
      ]
     },
     "execution_count": 19,
     "metadata": {},
     "output_type": "execute_result"
    }
   ],
   "source": [
    "batch[:, 10][None].T.shape"
   ]
  },
  {
   "cell_type": "code",
   "execution_count": 20,
   "metadata": {},
   "outputs": [],
   "source": [
    "# model.load_state_dict(torch.load(\"Weights/gru_embed_freeze/weights.pth\"))"
   ]
  },
  {
   "cell_type": "code",
   "execution_count": 21,
   "metadata": {},
   "outputs": [
    {
     "data": {
      "text/plain": [
       "False"
      ]
     },
     "execution_count": 21,
     "metadata": {},
     "output_type": "execute_result"
    }
   ],
   "source": [
    "isinstance(model, LSTM)"
   ]
  },
  {
   "attachments": {},
   "cell_type": "markdown",
   "metadata": {},
   "source": [
    "## Intrinsic Eval"
   ]
  },
  {
   "cell_type": "code",
   "execution_count": 22,
   "metadata": {},
   "outputs": [
    {
     "name": "stderr",
     "output_type": "stream",
     "text": [
      "100%|██████████| 118/118 [00:50<00:00,  2.32it/s]\n"
     ]
    }
   ],
   "source": [
    "# def perplexity(\n",
    "#         model, sentence_list,\n",
    "#         tokenizer = None,  # if None, assume sentence_list is already tokenized\n",
    "#         batch_size = 32,\n",
    "#         consider_length = 32,   # if the length is too large the perplexity will be infinite\n",
    "#     ):\n",
    "#     model.eval()\n",
    "#     device = next(model.parameters()).device\n",
    "#     if(tokenizer is not None):\n",
    "#         tokenized = tokenizer.tokenize([sentence_list], get_token_ids=True)\n",
    "#         token_ids = tokenized[\"token_ids\"][0]\n",
    "#     else:\n",
    "#         token_ids = sentence_list\n",
    "\n",
    "#     perplexity_track = []\n",
    "#     with torch.no_grad():\n",
    "#         for batch_start in tqdm(range(0, len(token_ids), batch_size)):\n",
    "#             batch_end = min(len(token_ids), batch_start + batch_size)\n",
    "#             cur_batch_size = batch_end - batch_start\n",
    "#             min_length = min(consider_length, np.array([len(t) for t in token_ids[batch_start : batch_end]]).min())\n",
    "\n",
    "#             batch = torch.stack(\n",
    "#                 [torch.tensor(t[:min_length]) for t in token_ids[batch_start : batch_end]]\n",
    "#             ).to(device)\n",
    "\n",
    "#             hidden_state = get_fresh_initial_hidden_states(model, cur_batch_size)\n",
    "#             # print(batch.shape, hidden_state.shape)\n",
    "\n",
    "#             log_true_proba = 0\n",
    "#             for i in range(min_length - 1):\n",
    "#                 x = batch[:, i][None].T\n",
    "#                 y_true = batch[:, i+1][None].T\n",
    "#                 y_pred, hidden_state = model(x, hidden_state)\n",
    "#                 cur_log_proba = 0\n",
    "#                 for pred, true in zip(y_pred, y_true):\n",
    "#                     softmax = torch.nn.functional.softmax(pred.squeeze(), dim = 0)\n",
    "#                     # print(true[0].item(), softmax[true[0]].item(), torch.log(softmax[true[0]]).item())\n",
    "#                     cur_log_proba += torch.log(softmax[true[0]])\n",
    "#                 cur_log_proba /= cur_batch_size\n",
    "#                 # print(cur_log_proba.item())\n",
    "#                 log_true_proba += cur_log_proba\n",
    "\n",
    "#                 # hidden_state = hidden_state.detach()\n",
    "\n",
    "#             proba = torch.exp(log_true_proba.to(torch.float64))\n",
    "#             # print(f\"log proba = {log_true_proba.item()}\", f\"p = {proba.item()}\")\n",
    "#             perplexity_track.append(torch.pow(proba, -1/min_length))\n",
    "    \n",
    "#     return torch.tensor(perplexity_track).mean().item()\n",
    "        \n",
    "\n",
    "from modeling.model_utils import perplexity\n",
    "\n",
    "init_perplexity = perplexity(\n",
    "    model, validation_data, batch_size = 128, consider_length = 64\n",
    ")\n",
    "\n",
    "perplexity_track = [init_perplexity]"
   ]
  },
  {
   "cell_type": "code",
   "execution_count": 23,
   "metadata": {},
   "outputs": [
    {
     "data": {
      "text/plain": [
       "[32708.00546682894]"
      ]
     },
     "execution_count": 23,
     "metadata": {},
     "output_type": "execute_result"
    }
   ],
   "source": [
    "perplexity_track"
   ]
  },
  {
   "attachments": {},
   "cell_type": "markdown",
   "metadata": {},
   "source": [
    "## Training"
   ]
  },
  {
   "cell_type": "code",
   "execution_count": 24,
   "metadata": {},
   "outputs": [],
   "source": [
    "learning_rate = 0.001\n",
    "num_epochs = 10\n",
    "batch_size = 128\n",
    "\n",
    "cross_entropy = torch.nn.CrossEntropyLoss().to(device)\n",
    "tunable_params = [\n",
    "    p for n, p in model.named_parameters() if \"word_embeddings\" not in n # tune all weights but the embeddings\n",
    "]\n",
    "\n",
    "optimizer = torch.optim.Adam(tunable_params, lr = learning_rate)\n",
    "# optimizer = torch.optim.Adam(model.parameters(), lr = learning_rate)"
   ]
  },
  {
   "cell_type": "code",
   "execution_count": 25,
   "metadata": {},
   "outputs": [
    {
     "name": "stdout",
     "output_type": "stream",
     "text": [
      "Epoch 1:\n"
     ]
    },
    {
     "name": "stderr",
     "output_type": "stream",
     "text": [
      "100%|██████████| 352/352 [04:49<00:00,  1.22it/s]\n"
     ]
    },
    {
     "name": "stdout",
     "output_type": "stream",
     "text": [
      "calculating perplexity on validation set\n"
     ]
    },
    {
     "name": "stderr",
     "output_type": "stream",
     "text": [
      "100%|██████████| 118/118 [00:51<00:00,  2.29it/s]\n"
     ]
    },
    {
     "name": "stdout",
     "output_type": "stream",
     "text": [
      "perplexity = 705.1420548043538\n",
      "-----------------------------------------\n",
      "Epoch 2:\n"
     ]
    },
    {
     "name": "stderr",
     "output_type": "stream",
     "text": [
      " 76%|███████▌  | 267/352 [03:36<01:07,  1.26it/s]"
     ]
    }
   ],
   "source": [
    "loss_track = []\n",
    "\n",
    "for epoch in range(num_epochs):\n",
    "    print(f\"Epoch {epoch + 1}:\")\n",
    "    model.train()\n",
    "    loss = 0\n",
    "    for batch_start in tqdm(range(0, len(training_data), batch_size)):\n",
    "        batch_end = min(len(training_data), batch_start + batch_size)\n",
    "        cur_batch_size = batch_end - batch_start\n",
    "\n",
    "        tokenized = training_data[batch_start : batch_end]\n",
    "        min_length = np.array([len(t) for t in tokenized]).min()\n",
    "        batch = torch.stack(\n",
    "            [torch.tensor(t[:min_length]) for t in tokenized]\n",
    "        ).to(device)\n",
    "\n",
    "        # start fresh for each sentence\n",
    "        hidden_state = get_fresh_initial_hidden_states(model, cur_batch_size)\n",
    "        \n",
    "        for i in range(min_length - 1):\n",
    "            x = batch[:, i][None].T\n",
    "            y_true = batch[:, i+1][None].T\n",
    "            y_pred, hidden_state = model(x, hidden_state)\n",
    "            for pred, true in zip(y_pred, y_true):\n",
    "                loss += cross_entropy(pred.squeeze(), true[0])\n",
    "        \n",
    "        loss_track.append(loss.item()/cur_batch_size)\n",
    "\n",
    "        optimizer.zero_grad()\n",
    "        loss.backward()\n",
    "        optimizer.step()\n",
    "            \n",
    "        model.zero_grad()\n",
    "        loss = 0\n",
    "    \n",
    "    print(\"calculating perplexity on validation set\")\n",
    "    pp = perplexity(model, validation_data, batch_size=batch_size, consider_length=64)\n",
    "    print(f\"perplexity = {pp}\") \n",
    "    perplexity_track.append(pp)\n",
    "    print(\"-----------------------------------------\")"
   ]
  },
  {
   "attachments": {},
   "cell_type": "markdown",
   "metadata": {},
   "source": [
    "### Saving model weights"
   ]
  },
  {
   "cell_type": "code",
   "execution_count": null,
   "metadata": {},
   "outputs": [],
   "source": [
    "import os\n",
    "import json\n",
    "\n",
    "save_dir = \"Weights/gru_embed_freeze_2\" # <--- change this to save to a different directory\n",
    "os.makedirs(save_dir, exist_ok=True)\n",
    "\n",
    "torch.save(model.state_dict(), f\"{save_dir}/weights.pth\")\n",
    "with open(f\"{save_dir}/logs.json\", \"w\") as f:\n",
    "    json.dump({\n",
    "        \"loss_track\": loss_track,\n",
    "        \"perplexity_track\": perplexity_track\n",
    "    }, f)"
   ]
  },
  {
   "cell_type": "code",
   "execution_count": null,
   "metadata": {},
   "outputs": [
    {
     "data": {
      "text/plain": [
       "Text(0, 0.5, 'Loss')"
      ]
     },
     "execution_count": 52,
     "metadata": {},
     "output_type": "execute_result"
    },
    {
     "data": {
      "image/png": "[encoded data removed]",
      "text/plain": [
       "<Figure size 640x480 with 1 Axes>"
      ]
     },
     "metadata": {},
     "output_type": "display_data"
    }
   ],
   "source": [
    "import matplotlib.pyplot as plt\n",
    "\n",
    "plt.plot(loss_track)\n",
    "plt.ylabel(\"Loss\")"
   ]
  },
  {
   "cell_type": "code",
   "execution_count": null,
   "metadata": {},
   "outputs": [
    {
     "data": {
      "text/plain": [
       "Text(0.5, 0, 'Epoch')"
      ]
     },
     "execution_count": 53,
     "metadata": {},
     "output_type": "execute_result"
    },
    {
     "data": {
      "image/png": "[encoded data removed]",
      "text/plain": [
       "<Figure size 640x480 with 1 Axes>"
      ]
     },
     "metadata": {},
     "output_type": "display_data"
    }
   ],
   "source": [
    "plt.plot(perplexity_track[1:])\n",
    "plt.ylabel(\"Perplexity\")\n",
    "plt.xlabel(\"Epoch\")"
   ]
  },
  {
   "attachments": {},
   "cell_type": "markdown",
   "metadata": {},
   "source": [
    "## Generation"
   ]
  },
  {
   "cell_type": "code",
   "execution_count": null,
   "metadata": {},
   "outputs": [],
   "source": [
    "# def generate(\n",
    "#         model, tokenizer, \n",
    "#         prompt=\"\", max_new_tokens = 10, top_k = 5,\n",
    "#         debug = False,\n",
    "#     ):\n",
    "#     model.eval()\n",
    "#     device = next(model.parameters()).device\n",
    "#     tokenized = tokenizer.tokenize([prompt], get_token_ids=True)\n",
    "#     token_ids = tokenized[\"token_ids\"][0][:-1]  # remove the </s> token\n",
    "#     end_of_sent = tokenizer.word_index[tokenizer.SENT_END]\n",
    "\n",
    "#     # start fresh for each sentence\n",
    "#     hidden_state = get_fresh_initial_hidden_states(model, 1)\n",
    "    \n",
    "#     for p in token_ids:\n",
    "#         x = torch.tensor([[p]]).to(device)\n",
    "#         y_pred, hidden_state = model(x, hidden_state)\n",
    "    \n",
    "#     last_token = token_ids[-1]\n",
    "#     generated_tokens = []\n",
    "#     for i in range(max_new_tokens):\n",
    "#         # print(hidden_state.norm().item())\n",
    "#         y_pred, hidden_state = model(\n",
    "#             torch.tensor([[last_token]]).to(device), hidden_state\n",
    "#         )\n",
    "#         y_pred = y_pred.squeeze()\n",
    "#         y_pred = torch.nn.functional.softmax(y_pred, dim = 0)\n",
    "#         y_pred = y_pred.cpu().detach().numpy()\n",
    "#         top_k_idx = y_pred.argsort()[-top_k:][::-1]\n",
    "#         top_k_values = y_pred[top_k_idx]\n",
    "\n",
    "#         if(debug):\n",
    "#             print(top_k_idx)\n",
    "#             print([(tokenizer.index_word[t], np.round(v, 4)) for t, v in zip(top_k_idx, top_k_values)])\n",
    "        \n",
    "#         top_k_probs = top_k_values / np.sum(top_k_values)\n",
    "#         sampled_idx = np.random.choice(top_k_idx, p = top_k_probs)\n",
    "#         token_ids.append(sampled_idx)\n",
    "#         last_token = sampled_idx\n",
    "#         generated_tokens.append(sampled_idx)\n",
    "#         if(sampled_idx == end_of_sent):\n",
    "#             break\n",
    "    \n",
    "#     return {\n",
    "#         \"text\": tokenizer.decode([token_ids + generated_tokens])[0],\n",
    "#         \"generated_tokens\": generated_tokens,\n",
    "#     }\n",
    "\n",
    "from modeling.model_utils import generate"
   ]
  },
  {
   "cell_type": "code",
   "execution_count": null,
   "metadata": {},
   "outputs": [
    {
     "name": "stdout",
     "output_type": "stream",
     "text": [
      "[   4    7   42  479   80 2859  210    1   63  432]\n",
      "[('_', 0.1281), ('_I', 0.1133), ('_(', 0.0898), ('You', 0.0383), ('_You', 0.0225), ('The', 0.0163), ('_Yeah', 0.0162), ('_Oh', 0.0152), ('_The', 0.0143), ('I', 0.0143)]\n",
      "[ 51  18  75  68  32   6  89  10  90 493]\n",
      "[('_am', 0.0924), ('_have', 0.0812), ('_do', 0.0799), ('_got', 0.047), ('_want', 0.0455), ('_was', 0.0411), ('_cannot', 0.04), ('_know', 0.0356), ('_see', 0.0275), ('_can', 0.0259)]\n",
      "[ 57  13 188 313 124 147  77 226 286  15]\n",
      "[('_a', 0.098), ('_not', 0.0644), ('_just', 0.0419), ('_going', 0.0352), ('_on', 0.0312), ('_in', 0.0275), ('_the', 0.0265), ('_so', 0.0241), ('_about', 0.0189), ('_here', 0.0168)]\n",
      "[  9   2  20  57  33  77 804 213 730  73]\n",
      "[('_to', 0.9408), (',', 0.008), ('_you', 0.0032), ('_a', 0.0024), ('_it', 0.0023), ('_the', 0.0018), ('_To', 0.0017), ('_again', 0.0013), ('_being', 0.0013), ('_that', 0.0012)]\n",
      "[  34 3570  344  303   75  205   18  179   21  101]\n",
      "[('_be', 0.0709), ('_introduce', 0.0522), ('_make', 0.0356), ('_say', 0.0324), ('_do', 0.0321), ('_put', 0.0266), ('_have', 0.0237), ('_get', 0.0232), ('_go', 0.0224), ('_hit', 0.0213)]\n",
      "[ 77  57 147 948  52   2 365 124  15 264]\n",
      "[('_the', 0.0955), ('_a', 0.0946), ('_in', 0.0712), ('_real', 0.0499), ('_with', 0.041), (',', 0.0391), ('_back', 0.0357), ('_on', 0.0285), ('_here', 0.0263), ('_there', 0.0162)]\n",
      "[147   2 213   9  52 124 117 317   7 416]\n",
      "[('_in', 0.2354), (',', 0.1124), ('_again', 0.1103), ('_to', 0.1025), ('_with', 0.051), ('_on', 0.0321), ('_and', 0.0289), ('_when', 0.0274), ('_I', 0.0201), ('_at', 0.0168)]\n",
      "[   2   42    7  736    4  117   22  213 1095  210]\n",
      "[(',', 0.258), ('_(', 0.0916), ('_I', 0.0712), ('.', 0.0473), ('_', 0.0279), ('_and', 0.0161), ('_And', 0.0161), ('_again', 0.0128), ('_-', 0.0123), ('_Yeah', 0.0114)]\n",
      "[   7   42  736    4    2  117   22   63 3134  462]\n",
      "[('_I', 0.2303), ('_(', 0.0878), ('.', 0.0586), ('_', 0.0232), (',', 0.0186), ('_and', 0.0154), ('_And', 0.0153), ('_The', 0.0139), ('_Right', 0.0119), ('_What', 0.0108)]\n",
      "[ 51  32  75  18 493 477 188   6 211  10]\n",
      "[('_am', 0.3466), ('_want', 0.0599), ('_do', 0.0584), ('_have', 0.0336), ('_can', 0.0304), ('_will', 0.0238), ('_just', 0.0234), ('_was', 0.0232), ('_think', 0.0208), ('_know', 0.0181)]\n",
      "[313 147 286 365 188 124  57  13 416  15]\n",
      "[('_going', 0.0715), ('_in', 0.0553), ('_about', 0.0538), ('_back', 0.0533), ('_just', 0.0531), ('_on', 0.0377), ('_a', 0.0353), ('_not', 0.0299), ('_at', 0.0286), ('_here', 0.0273)]\n",
      "[  57  450 1007  313 1067   83  408  147 1281  507]\n",
      "[('_a', 0.1339), ('_try', 0.0655), ('_trying', 0.0502), ('_going', 0.0343), ('_as', 0.0273), ('_like', 0.0254), ('_thinking', 0.023), ('_in', 0.022), ('_checking', 0.0203), ('_saying', 0.0193)]\n",
      "[  646   778  1738   736 10068   253   731  3289   407   182]\n",
      "[('_man', 0.1132), ('_little', 0.0876), ('_soldier', 0.0401), ('.', 0.0319), ('_rapper', 0.0265), ('_fool', 0.0245), ('_kid', 0.0225), ('_friend', 0.0166), ('_lonely', 0.0161), ('-', 0.0139)]\n",
      "[  2 736  73   9 147 756   7  26 117 309]\n",
      "[(',', 0.1148), ('.', 0.1138), ('_that', 0.0966), ('_to', 0.077), ('_in', 0.0576), ('_who', 0.0563), ('_I', 0.0305), ('_of', 0.0273), ('_and', 0.0259), ('_but', 0.015)]\n",
      "[  7  20 613  13  33  57  77  73   2  23]\n",
      "[('_I', 0.3427), ('_you', 0.1255), ('_he', 0.0624), ('_not', 0.0356), ('_it', 0.0319), ('_a', 0.0295), ('_the', 0.0289), ('_that', 0.0284), (',', 0.022), ('_now', 0.0129)]\n",
      "[ 24 477  10 493  75  89  68  17  47 188]\n",
      "[('_are', 0.28), ('_will', 0.0695), ('_know', 0.0688), ('_can', 0.0542), ('_do', 0.046), ('_cannot', 0.0435), ('_got', 0.0341), ('_should', 0.0273), ('_still', 0.02), ('_just', 0.0192)]\n",
      "[  13   57  188   77  313   47  147  774 1963 1483]\n",
      "[('_not', 0.4653), ('_a', 0.0482), ('_just', 0.0457), ('_the', 0.0276), ('_going', 0.0179), ('_still', 0.0156), ('_in', 0.0124), ('_too', 0.0105), ('_very', 0.0101), ('_always', 0.01)]\n",
      "[   9   25  678  520   52  296  137  124    2 1067]\n",
      "[('_to', 0.9523), ('_out', 0.0091), ('_through', 0.009), ('_crazy', 0.0024), ('_with', 0.002), ('_home', 0.0017), ('_up', 0.0014), ('_on', 0.0013), (',', 0.0011), ('_as', 0.001)]\n",
      "[ 34 344 179  18 785 290  90 281 205  75]\n",
      "[('_be', 0.2934), ('_make', 0.0519), ('_get', 0.0474), ('_have', 0.0369), ('_find', 0.0162), ('_tell', 0.0162), ('_see', 0.0153), ('_take', 0.0148), ('_put', 0.014), ('_do', 0.0139)]\n",
      "[ 33  57  30 240  77  20 765  73  54 760]\n",
      "[('_it', 0.3071), ('_a', 0.2125), ('_me', 0.1578), ('_this', 0.0348), ('_the', 0.0293), ('_you', 0.0163), ('_sure', 0.0149), ('_that', 0.0141), ('_my', 0.0134), ('_some', 0.0124)]\n",
      "[ 119   57   32  100 9497  249  211  949  520  187]\n",
      "[('_feel', 0.1002), ('_a', 0.0501), ('_want', 0.0442), ('_wait', 0.0334), ('_sloppy', 0.0256), ('_cry', 0.0238), ('_think', 0.023), ('_understand', 0.0228), ('_crazy', 0.015), ('_stop', 0.0142)]\n",
      "[  9  57 760  33 240  20  77 122  61  54]\n",
      "[('_to', 0.8762), ('_a', 0.0309), ('_some', 0.0176), ('_it', 0.0102), ('_this', 0.0075), ('_you', 0.0066), ('_the', 0.0046), ('_your', 0.0043), ('_more', 0.0034), ('_my', 0.003)]\n",
      "[  601   929   669  1731   646   849 14098 18949  2022  1400]\n",
      "[('_same', 0.0475), ('_best', 0.0358), ('_first', 0.0218), ('_most', 0.0217), ('_man', 0.0204), ('_music', 0.0144), ('_needle', 0.0109), ('_exact', 0.0104), ('_money', 0.01), ('_beats', 0.0098)]\n",
      "[   9    7   73  736  756    2   20   52  220 1246]\n",
      "[('_to', 0.2848), ('_I', 0.0737), ('_that', 0.0421), ('.', 0.0419), ('_who', 0.0354), (',', 0.0353), ('_you', 0.0342), ('_with', 0.0209), ('_But', 0.0204), ('...', 0.0203)]\n",
      "[  34  344  290  303   75   10   90 1023  179   21]\n",
      "[('_be', 0.0968), ('_make', 0.0715), ('_tell', 0.0311), ('_say', 0.0307), ('_do', 0.0268), ('_know', 0.0259), ('_see', 0.0259), ('_catch', 0.0256), ('_get', 0.0241), ('_go', 0.0219)]\n",
      "[  20   30 1424  201   77   73  548    7  364  288]\n",
      "[('_you', 0.4491), ('_me', 0.3096), ('_him', 0.054), ('_ya', 0.0259), ('_the', 0.0191), ('_that', 0.0175), ('_them', 0.0078), ('_I', 0.0059), ('_us', 0.0053), ('_her', 0.0053)]\n",
      "[ 73 134  31   7   2  77  20  57  24 315]\n",
      "[('_that', 0.1549), ('_what', 0.0736), ('_how', 0.053), ('_I', 0.0521), (',', 0.0447), ('_the', 0.0398), ('_you', 0.0216), ('_a', 0.0199), ('_are', 0.0171), ('_where', 0.0169)]\n",
      "[ 646  823  384  593  778  878 3289  736 2284  385]\n",
      "[('_man', 0.1888), ('_lot', 0.1647), ('_story', 0.0479), ('_thing', 0.0402), ('_little', 0.036), ('_nig', 0.0211), ('_friend', 0.0136), ('.', 0.0127), ('_dude', 0.0119), ('_girl', 0.0108)]\n",
      "[3138  736    2 8800    7    4 6096   73  114  182]\n",
      "[('ga', 0.9923), ('.', 0.0026), (',', 0.0008), ('gers', 0.0004), ('_I', 0.0003), ('_', 0.0002), ('sta', 0.0002), ('_that', 1e-04), (\"'\", 1e-04), ('-', 1e-04)]\n",
      "[ 73   2  52  83   4   7 756  20   9  57]\n",
      "[('_that', 0.1189), (',', 0.0651), ('_with', 0.0569), ('_like', 0.0487), ('_', 0.0355), ('_I', 0.0318), ('_who', 0.0315), ('_you', 0.0298), ('_to', 0.0271), ('_a', 0.0173)]\n",
      "[  40  493   24  477   32   75   20  323  884 1940]\n",
      "[('_is', 0.1062), ('_can', 0.0878), ('_are', 0.0705), ('_will', 0.0469), ('_want', 0.0337), ('_do', 0.0277), ('_you', 0.0272), ('_knows', 0.0234), ('_could', 0.0203), ('_needs', 0.0201)]\n",
      "[  9  57  30  77 655  20 295  33  73  12]\n",
      "[('_to', 0.3309), ('_a', 0.2371), ('_me', 0.0411), ('_the', 0.04), ('_his', 0.0304), ('_you', 0.0284), ('_somebody', 0.0228), ('_it', 0.0214), ('_that', 0.0154), ('_something', 0.0144)]\n",
      "[  34   10  290  344 1923  949 1014  205   21  547]\n",
      "[('_be', 0.089), ('_know', 0.0736), ('_tell', 0.0447), ('_make', 0.0382), ('_kick', 0.0198), ('_understand', 0.018), ('_act', 0.0159), ('_put', 0.0158), ('_go', 0.0134), ('_call', 0.0132)]\n",
      "[  30  736  756   73   77   20   11    2   33 1332]\n",
      "[('_me', 0.0865), ('.', 0.083), ('_who', 0.0804), ('_that', 0.0544), ('_the', 0.0501), ('_you', 0.0375), ('_That', 0.0319), (',', 0.0268), ('_it', 0.0258), ('_which', 0.0244)]\n",
      "[   24   736    83   159   149     2  1246   949   133 12272]\n",
      "[('_are', 0.1079), ('.', 0.0676), ('_like', 0.0457), ('_better', 0.0228), ('_all', 0.0222), (',', 0.0176), ('...', 0.013), ('_understand', 0.0123), ('_love', 0.0121), ('_personally', 0.0118)]\n",
      "[309  20   7 613 117 878  28  24 756  83]\n",
      "[('_but', 0.1284), ('_you', 0.1107), ('_I', 0.0766), ('_he', 0.065), ('_and', 0.0324), ('_nig', 0.0261), ('_yeah', 0.0187), ('_are', 0.0181), ('_who', 0.0179), ('_like', 0.0161)]\n",
      "[ 20   7 665  40  24  75  51 215 477  34]\n",
      "[('_you', 0.4558), ('_I', 0.0675), ('a', 0.0625), ('_is', 0.0546), ('_are', 0.0333), ('_do', 0.0305), ('_am', 0.0156), ('_we', 0.0152), ('_will', 0.0138), ('_be', 0.013)]\n",
      "[ 24  32 294 313  37 303 211  83  10  75]\n",
      "[('_are', 0.2472), ('_want', 0.1462), ('_gon', 0.0684), ('_going', 0.0362), ('_need', 0.0358), ('_say', 0.0301), ('_think', 0.0271), ('_like', 0.0237), ('_know', 0.0177), ('_do', 0.0164)]\n",
      "[   9    2   16   20   30    7   73 1246  317   33]\n",
      "[('_to', 0.3469), (',', 0.1394), ('?', 0.1138), ('_you', 0.043), ('_me', 0.0309), ('_I', 0.0239), ('_that', 0.0186), ('...', 0.0182), ('_when', 0.0136), ('_it', 0.0135)]\n",
      "[   7    4   42   80  210 2531   92 1102 2096  257]\n",
      "[('_I', 0.1819), ('_', 0.1801), ('_(', 0.0506), ('_You', 0.0354), ('_Yeah', 0.0265), ('_Fuck', 0.024), ('_A', 0.022), ('_Who', 0.0212), ('_Man', 0.0158), ('_\"', 0.014)]\n",
      "[ 10  24 493  32  68  37  18  83  90 290]\n",
      "[('_know', 0.2572), ('_are', 0.1043), ('_can', 0.0534), ('_want', 0.0338), ('_got', 0.0304), ('_need', 0.0246), ('_have', 0.0192), ('_like', 0.0182), ('_see', 0.0169), ('_tell', 0.0147)]\n",
      "[   9   57  295  760   12   77  122   30 1676   33]\n",
      "[('_to', 0.46), ('_a', 0.1411), ('_somebody', 0.1131), ('_some', 0.0377), ('_something', 0.0338), ('_the', 0.0215), ('_your', 0.0166), ('_me', 0.0148), ('_someone', 0.0141), ('_it', 0.0138)]\n",
      "[ 646  823  778  878  934 1972 3289 1256  282  948]\n",
      "[('_man', 0.0653), ('_lot', 0.0511), ('_little', 0.0426), ('_nig', 0.0296), ('_question', 0.0274), ('_witness', 0.0153), ('_friend', 0.0147), ('_help', 0.0143), ('_piece', 0.0116), ('_real', 0.0109)]\n",
      "[756   2   9  16  26  73  20 309 316 117]\n",
      "[('_who', 0.1946), (',', 0.1514), ('_to', 0.1284), ('?', 0.0558), ('_of', 0.0455), ('_that', 0.0387), ('_you', 0.0307), ('_but', 0.0269), ('_or', 0.0268), ('_and', 0.0237)]\n",
      "[  40  493  477  294   20 1940   24   75  221   34]\n",
      "[('_is', 0.1535), ('_can', 0.0912), ('_will', 0.0585), ('_gon', 0.0579), ('_you', 0.0554), ('_needs', 0.0368), ('_are', 0.026), ('_do', 0.0245), ('_does', 0.0214), ('_be', 0.0154)]\n",
      "[ 114 1105   34   18  949    2  344   75 1233  290]\n",
      "[(\"'\", 0.905), (\"',\", 0.011), ('_be', 0.0089), ('_have', 0.0049), ('_understand', 0.0038), (',', 0.0036), ('_make', 0.003), ('_do', 0.0028), ('_appreciate', 0.0026), ('_tell', 0.0023)]\n",
      "[ 34 949  37 344 303 290  75 133  18 102]\n",
      "[('_be', 0.1413), ('_understand', 0.1024), ('_need', 0.0533), ('_make', 0.0514), ('_say', 0.0369), ('_tell', 0.0316), ('_do', 0.0301), ('_love', 0.0271), ('_have', 0.0263), ('_give', 0.026)]\n",
      "[ 52  57  83  77   2  16  54 147 264 122]\n",
      "[('_with', 0.1206), ('_a', 0.1165), ('_like', 0.0797), ('_the', 0.0712), (',', 0.0409), ('?', 0.0195), ('_my', 0.0163), ('_in', 0.0143), ('_there', 0.013), ('_your', 0.0127)]\n",
      "[ 20  57 240  73  30  33   2  77 257   7]\n",
      "[('_you', 0.2727), ('_a', 0.0896), ('_this', 0.0872), ('_that', 0.07), ('_me', 0.067), ('_it', 0.0547), (',', 0.0435), ('_the', 0.0275), ('_\"', 0.02), ('_I', 0.0185)]\n",
      "[   2   16  736  117  317    4   57    7  878 1246]\n",
      "[(',', 0.2935), ('?', 0.1041), ('.', 0.0707), ('_and', 0.0348), ('_when', 0.0236), ('_', 0.0235), ('_a', 0.02), ('_I', 0.0172), ('_nig', 0.016), ('...', 0.0142)]\n"
     ]
    },
    {
     "data": {
      "text/plain": [
       "\" I am about to be back again. I am just a rapper but you are going to make me want the man to tell you a nigga who needs to know you, who you like? You need a friend who gon' be like me. I am about to be back again. I am just a rapper but you are going to make me want the man to tell you a nigga who needs to know you, who you like? You need a friend who gon' be like me.\""
      ]
     },
     "execution_count": 59,
     "metadata": {},
     "output_type": "execute_result"
    }
   ],
   "source": [
    "gen_lyrics = generate(model, tokenizer, top_k = 10, max_new_tokens=50, debug = True)\n",
    "gen_lyrics[\"text\"]"
   ]
  },
  {
   "attachments": {},
   "cell_type": "markdown",
   "metadata": {},
   "source": [
    "## Sampling comparison"
   ]
  },
  {
   "cell_type": "code",
   "execution_count": null,
   "metadata": {},
   "outputs": [],
   "source": [
    "import json"
   ]
  },
  {
   "cell_type": "code",
   "execution_count": null,
   "metadata": {},
   "outputs": [
    {
     "name": "stdout",
     "output_type": "stream",
     "text": [
      "loading rnn model <class '__main__.RNN'>\n"
     ]
    },
    {
     "name": "stderr",
     "output_type": "stream",
     "text": [
      "100%|██████████| 50/50 [00:07<00:00,  6.66it/s]\n"
     ]
    },
    {
     "name": "stdout",
     "output_type": "stream",
     "text": [
      "loading lstm model <class '__main__.LSTM'>\n"
     ]
    },
    {
     "name": "stderr",
     "output_type": "stream",
     "text": [
      "100%|██████████| 50/50 [00:07<00:00,  6.61it/s]\n"
     ]
    },
    {
     "name": "stdout",
     "output_type": "stream",
     "text": [
      "loading gru model <class '__main__.GRU'>\n"
     ]
    },
    {
     "name": "stderr",
     "output_type": "stream",
     "text": [
      "100%|██████████| 50/50 [00:07<00:00,  6.59it/s]\n"
     ]
    }
   ],
   "source": [
    "model_types = {\"rnn\": RNN, \"lstm\": LSTM, \"gru\": GRU}\n",
    "\n",
    "for m_type in model_types:\n",
    "    model = model_types[m_type](\n",
    "        embedding_dim = embedder.embeddings_size,\n",
    "        hidden_dim = 4 * embedder.embeddings_size,\n",
    "        vocab_size = embedder.vocab_size,\n",
    "        pretrained_embeddings = embedding_matrix,\n",
    "    )\n",
    "    \n",
    "    model.to(device)\n",
    "    print(f\"loading {m_type} model\", type(model))\n",
    "    model.load_state_dict(torch.load(f\"Weights/{m_type}_embed_freeze/weights.pth\"))\n",
    "\n",
    "    samples = []\n",
    "    for i in tqdm(range(50)):\n",
    "        samples.append(\n",
    "            generate(model, tokenizer, top_k = 10, max_new_tokens=50)[\"text\"]\n",
    "        )\n",
    "\n",
    "    with open(f\"Results/{m_type}.json\", \"w\") as f:\n",
    "        json.dump(samples, f)"
   ]
  },
  {
   "cell_type": "code",
   "execution_count": null,
   "metadata": {},
   "outputs": [],
   "source": []
  }
 ],
 "metadata": {
  "kernelspec": {
   "display_name": "tensorflow",
   "language": "python",
   "name": "python3"
  },
  "language_info": {
   "codemirror_mode": {
    "name": "ipython",
    "version": 3
   },
   "file_extension": ".py",
   "mimetype": "text/x-python",
   "name": "python",
   "nbconvert_exporter": "python",
   "pygments_lexer": "ipython3",
   "version": "3.9.16"
  }
 },
 "nbformat": 4,
 "nbformat_minor": 2
}
