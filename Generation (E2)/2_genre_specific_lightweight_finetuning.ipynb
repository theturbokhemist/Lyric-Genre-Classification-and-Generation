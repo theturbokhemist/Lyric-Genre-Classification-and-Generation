{
 "cells": [
  {
   "attachments": {},
   "cell_type": "markdown",
   "metadata": {},
   "source": [
    "#### *Lightweight* finetuning of our best performing lyrics generator"
   ]
  },
  {
   "cell_type": "code",
   "execution_count": null,
   "metadata": {},
   "outputs": [],
   "source": [
    "%load_ext autoreload\n",
    "%autoreload 2"
   ]
  },
  {
   "cell_type": "code",
   "execution_count": 2,
   "metadata": {},
   "outputs": [
    {
     "name": "stderr",
     "output_type": "stream",
     "text": [
      "/home/local_arnab/miniconda3/envs/tensorflow/lib/python3.9/site-packages/tqdm/auto.py:21: TqdmWarning: IProgress not found. Please update jupyter and ipywidgets. See https://ipywidgets.readthedocs.io/en/stable/user_install.html\n",
      "  from .autonotebook import tqdm as notebook_tqdm\n"
     ]
    }
   ],
   "source": [
    "import pandas as pd\n",
    "import torch\n",
    "import numpy as np\n",
    "from tqdm.auto import tqdm\n",
    "\n",
    "from preprocessing import tokenize, embeddings"
   ]
  },
  {
   "attachments": {},
   "cell_type": "markdown",
   "metadata": {},
   "source": [
    "## Loading Data"
   ]
  },
  {
   "cell_type": "code",
   "execution_count": 3,
   "metadata": {},
   "outputs": [
    {
     "name": "stdout",
     "output_type": "stream",
     "text": [
      "(80285, 4)\n"
     ]
    },
    {
     "data": {
      "text/html": [
       "<div>\n",
       "<style scoped>\n",
       "    .dataframe tbody tr th:only-of-type {\n",
       "        vertical-align: middle;\n",
       "    }\n",
       "\n",
       "    .dataframe tbody tr th {\n",
       "        vertical-align: top;\n",
       "    }\n",
       "\n",
       "    .dataframe thead th {\n",
       "        text-align: right;\n",
       "    }\n",
       "</style>\n",
       "<table border=\"1\" class=\"dataframe\">\n",
       "  <thead>\n",
       "    <tr style=\"text-align: right;\">\n",
       "      <th></th>\n",
       "      <th>Artist</th>\n",
       "      <th>Song</th>\n",
       "      <th>Lyrics</th>\n",
       "      <th>Genre</th>\n",
       "    </tr>\n",
       "  </thead>\n",
       "  <tbody>\n",
       "    <tr>\n",
       "      <th>0</th>\n",
       "      <td>Britney Spears</td>\n",
       "      <td>...Baby One More Time</td>\n",
       "      <td>Oh, baby, baby Oh, baby, baby  Oh, baby, baby...</td>\n",
       "      <td>Pop</td>\n",
       "    </tr>\n",
       "    <tr>\n",
       "      <th>1</th>\n",
       "      <td>Britney Spears</td>\n",
       "      <td>Toxic</td>\n",
       "      <td>Baby, can't you see I'm calling? A guy like y...</td>\n",
       "      <td>Pop</td>\n",
       "    </tr>\n",
       "    <tr>\n",
       "      <th>2</th>\n",
       "      <td>Britney Spears</td>\n",
       "      <td>Work Bitch</td>\n",
       "      <td>You wanna? You wanna?  You want a hot body? Y...</td>\n",
       "      <td>Pop</td>\n",
       "    </tr>\n",
       "    <tr>\n",
       "      <th>3</th>\n",
       "      <td>Britney Spears</td>\n",
       "      <td>Oops!... I Did It Again</td>\n",
       "      <td>Mmm, yeah Yeah, yeah, yeah, yeah, yeah, yeah ...</td>\n",
       "      <td>Pop</td>\n",
       "    </tr>\n",
       "    <tr>\n",
       "      <th>4</th>\n",
       "      <td>Britney Spears</td>\n",
       "      <td>If U Seek Amy</td>\n",
       "      <td>La, la, la, la, la-la, la, la La, la, la, la,...</td>\n",
       "      <td>Pop</td>\n",
       "    </tr>\n",
       "  </tbody>\n",
       "</table>\n",
       "</div>"
      ],
      "text/plain": [
       "           Artist                     Song  \\\n",
       "0  Britney Spears    ...Baby One More Time   \n",
       "1  Britney Spears                    Toxic   \n",
       "2  Britney Spears               Work Bitch   \n",
       "3  Britney Spears  Oops!... I Did It Again   \n",
       "4  Britney Spears            If U Seek Amy   \n",
       "\n",
       "                                              Lyrics Genre  \n",
       "0   Oh, baby, baby Oh, baby, baby  Oh, baby, baby...   Pop  \n",
       "1   Baby, can't you see I'm calling? A guy like y...   Pop  \n",
       "2   You wanna? You wanna?  You want a hot body? Y...   Pop  \n",
       "3   Mmm, yeah Yeah, yeah, yeah, yeah, yeah, yeah ...   Pop  \n",
       "4   La, la, la, la, la-la, la, la La, la, la, la,...   Pop  "
      ]
     },
     "execution_count": 3,
     "metadata": {},
     "output_type": "execute_result"
    }
   ],
   "source": [
    "df = pd.read_csv(\"Data/df_lyrics.csv\")\n",
    "print(df.shape)\n",
    "df.head()"
   ]
  },
  {
   "cell_type": "code",
   "execution_count": 4,
   "metadata": {},
   "outputs": [
    {
     "name": "stdout",
     "output_type": "stream",
     "text": [
      "Pop 18275\n",
      "Country 21717\n",
      "Rock 21962\n",
      "Rap 18331\n"
     ]
    }
   ],
   "source": [
    "for genre in set(df.Genre):\n",
    "    print(genre, df[df.Genre == genre].shape[0])"
   ]
  },
  {
   "cell_type": "code",
   "execution_count": 5,
   "metadata": {},
   "outputs": [],
   "source": [
    "####################################################################\n",
    "genre = \"Rap\" # <--- Change this to the genre you want to finetune\n",
    "####################################################################\n",
    "\n",
    "df_genre = df[df.Genre == genre]"
   ]
  },
  {
   "attachments": {},
   "cell_type": "markdown",
   "metadata": {},
   "source": [
    "## Preprocessing"
   ]
  },
  {
   "cell_type": "code",
   "execution_count": 6,
   "metadata": {},
   "outputs": [
    {
     "name": "stderr",
     "output_type": "stream",
     "text": [
      "2023-04-13 17:52:07.858337: I tensorflow/stream_executor/platform/default/dso_loader.cc:49] Successfully opened dynamic library libcudart.so.10.1\n"
     ]
    },
    {
     "data": {
      "text/plain": [
       "{'tokens': [['<s>', 'I', '_am', '_a', '_little', '_te', 'ap', 'ot', '</s>']],\n",
       " 'token_ids': [[0, 432, 51, 57, 778, 2153, 1821, 6834, 87]]}"
      ]
     },
     "execution_count": 6,
     "metadata": {},
     "output_type": "execute_result"
    }
   ],
   "source": [
    "tokenizer = tokenize.Tokenizer()\n",
    "tokenizer.load(path = \"Weights/tokenizer.json\")\n",
    "tokenizer.tokenize(\"I'm a little teapot\", get_token_ids=True)"
   ]
  },
  {
   "cell_type": "code",
   "execution_count": 7,
   "metadata": {},
   "outputs": [],
   "source": [
    "##########################################################\n",
    "MAX_LENGTH = 1024  # max context length for the tokenizer\n",
    "##########################################################\n",
    "lyrics = [l[:min(len(l), MAX_LENGTH)] for l in list(df_genre[\"Lyrics\"])]\n",
    "\n",
    "proprocessed_lyrics = tokenizer.tokenize(lyrics, get_token_ids=True)"
   ]
  },
  {
   "cell_type": "code",
   "execution_count": 8,
   "metadata": {},
   "outputs": [
    {
     "data": {
      "text/plain": [
       "18331"
      ]
     },
     "execution_count": 8,
     "metadata": {},
     "output_type": "execute_result"
    }
   ],
   "source": [
    "lyrics_token_ids = proprocessed_lyrics[\"token_ids\"]\n",
    "len(lyrics_token_ids)"
   ]
  },
  {
   "cell_type": "code",
   "execution_count": 9,
   "metadata": {},
   "outputs": [
    {
     "name": "stdout",
     "output_type": "stream",
     "text": [
      "14664 3667\n"
     ]
    }
   ],
   "source": [
    "shuffle_idx = np.random.permutation(len(lyrics_token_ids))\n",
    "\n",
    "####################################################################\n",
    "training_size = int(len(lyrics_token_ids) * 0.8)\n",
    "validation_size = len(lyrics_token_ids) - training_size\n",
    "####################################################################\n",
    "\n",
    "training_data = [lyrics_token_ids[i] for i in shuffle_idx[ : training_size]]\n",
    "validation_data = [lyrics_token_ids[i] for i in shuffle_idx[training_size :]]\n",
    "\n",
    "print(len(training_data), len(validation_data))"
   ]
  },
  {
   "cell_type": "code",
   "execution_count": 10,
   "metadata": {},
   "outputs": [],
   "source": [
    "embedder = embeddings.Embedding()\n",
    "embedder.load(\"Weights/embeddings_300_w2v.txt\")"
   ]
  },
  {
   "cell_type": "code",
   "execution_count": 11,
   "metadata": {},
   "outputs": [
    {
     "data": {
      "text/plain": [
       "(300, 39903)"
      ]
     },
     "execution_count": 11,
     "metadata": {},
     "output_type": "execute_result"
    }
   ],
   "source": [
    "embedder.embeddings_size, embedder.vocab_size"
   ]
  },
  {
   "attachments": {},
   "cell_type": "markdown",
   "metadata": {},
   "source": [
    "## Loading the Best Model (`LSTM`)"
   ]
  },
  {
   "cell_type": "code",
   "execution_count": 12,
   "metadata": {},
   "outputs": [],
   "source": [
    "from modeling.models import LSTM\n",
    "import modeling.model_utils as model_utils"
   ]
  },
  {
   "cell_type": "code",
   "execution_count": 13,
   "metadata": {},
   "outputs": [
    {
     "data": {
      "text/plain": [
       "<All keys matched successfully>"
      ]
     },
     "execution_count": 13,
     "metadata": {},
     "output_type": "execute_result"
    }
   ],
   "source": [
    "device = \"cuda:0\" if torch.cuda.is_available() else \"cpu\"\n",
    "\n",
    "###################################################################################\n",
    "model = LSTM(\n",
    "    embedding_dim = embedder.embeddings_size,\n",
    "    hidden_dim = 4 * embedder.embeddings_size,\n",
    "    vocab_size = embedder.vocab_size,\n",
    "    pretrained_embeddings = None, # all the weights are going to get populated anyways\n",
    ")\n",
    "###################################################################################\n",
    "\n",
    "model.to(device)\n",
    "\n",
    "# loading pretrained weights\n",
    "model.load_state_dict(torch.load(f\"Weights/lstm_embed_freeze/weights.pth\"))"
   ]
  },
  {
   "cell_type": "code",
   "execution_count": 14,
   "metadata": {},
   "outputs": [
    {
     "data": {
      "text/plain": [
       "78633603"
      ]
     },
     "execution_count": 14,
     "metadata": {},
     "output_type": "execute_result"
    }
   ],
   "source": [
    "model_utils.get_parameter_count(model)"
   ]
  },
  {
   "cell_type": "code",
   "execution_count": 15,
   "metadata": {},
   "outputs": [
    {
     "name": "stderr",
     "output_type": "stream",
     "text": [
      "100%|██████████| 115/115 [00:07<00:00, 14.53it/s]\n"
     ]
    },
    {
     "data": {
      "text/plain": [
       "79.14500547368743"
      ]
     },
     "execution_count": 15,
     "metadata": {},
     "output_type": "execute_result"
    }
   ],
   "source": [
    "init_perplexity = model_utils.perplexity(\n",
    "    model, validation_data,\n",
    ")\n",
    "init_perplexity"
   ]
  },
  {
   "attachments": {},
   "cell_type": "markdown",
   "metadata": {},
   "source": [
    "## Lightweight Finetuning\n",
    "\n",
    "We are going to freeze the params of the `lstm` language model and introduce additional parameters as previous `cell states` and `hidden states` that will nudge the model to generate genre-specific lyrics."
   ]
  },
  {
   "cell_type": "code",
   "execution_count": 16,
   "metadata": {},
   "outputs": [
    {
     "data": {
      "text/plain": [
       "(torch.Size([2, 1, 1200]), torch.Size([2, 1, 1200]))"
      ]
     },
     "execution_count": 16,
     "metadata": {},
     "output_type": "execute_result"
    }
   ],
   "source": [
    "cell_state, h0_state = model_utils.get_fresh_initial_hidden_states(\n",
    "    model, \n",
    "    batch_size=1  # we want to learn only one cell and hidden states which will be used to generate all the songs in the genre \n",
    ")\n",
    "cell_state.shape, h0_state.shape"
   ]
  },
  {
   "cell_type": "code",
   "execution_count": 17,
   "metadata": {},
   "outputs": [],
   "source": [
    "# randomly initializing to break the symmetry\n",
    "\n",
    "cell_state = torch.FloatTensor(cell_state.shape).uniform_(-1, 1).to(device)\n",
    "h0_state.hidden_state = torch.FloatTensor(h0_state.shape).uniform_(-1, 1).to(device)\n",
    "\n",
    "cell_state.requires_grad = True\n",
    "h0_state.requires_grad = True"
   ]
  },
  {
   "cell_type": "code",
   "execution_count": 18,
   "metadata": {},
   "outputs": [],
   "source": [
    "learning_rate = 0.001\n",
    "num_epochs = 10\n",
    "batch_size = 128\n",
    "\n",
    "cross_entropy = torch.nn.CrossEntropyLoss().to(device)\n",
    "tunable_params = [\n",
    "    cell_state, h0_state  # only tune the randomly initialized cell and hidden states\n",
    "]\n",
    "\n",
    "optimizer = torch.optim.Adam(tunable_params, lr = learning_rate)"
   ]
  },
  {
   "cell_type": "code",
   "execution_count": 19,
   "metadata": {},
   "outputs": [
    {
     "name": "stdout",
     "output_type": "stream",
     "text": [
      "Epoch 1:\n"
     ]
    },
    {
     "name": "stderr",
     "output_type": "stream",
     "text": [
      "100%|██████████| 115/115 [02:10<00:00,  1.13s/it]\n"
     ]
    },
    {
     "name": "stdout",
     "output_type": "stream",
     "text": [
      "calculating perplexity on validation set\n"
     ]
    },
    {
     "name": "stderr",
     "output_type": "stream",
     "text": [
      "100%|██████████| 29/29 [00:13<00:00,  2.08it/s]\n"
     ]
    },
    {
     "name": "stdout",
     "output_type": "stream",
     "text": [
      "perplexity = 84.65519569290029\n",
      "-----------------------------------------\n",
      "Epoch 2:\n"
     ]
    },
    {
     "name": "stderr",
     "output_type": "stream",
     "text": [
      "100%|██████████| 115/115 [02:08<00:00,  1.12s/it]\n"
     ]
    },
    {
     "name": "stdout",
     "output_type": "stream",
     "text": [
      "calculating perplexity on validation set\n"
     ]
    },
    {
     "name": "stderr",
     "output_type": "stream",
     "text": [
      "100%|██████████| 29/29 [00:13<00:00,  2.17it/s]\n"
     ]
    },
    {
     "name": "stdout",
     "output_type": "stream",
     "text": [
      "perplexity = 83.80371856914032\n",
      "-----------------------------------------\n",
      "Epoch 3:\n"
     ]
    },
    {
     "name": "stderr",
     "output_type": "stream",
     "text": [
      "100%|██████████| 115/115 [02:07<00:00,  1.11s/it]\n"
     ]
    },
    {
     "name": "stdout",
     "output_type": "stream",
     "text": [
      "calculating perplexity on validation set\n"
     ]
    },
    {
     "name": "stderr",
     "output_type": "stream",
     "text": [
      "100%|██████████| 29/29 [00:13<00:00,  2.15it/s]\n"
     ]
    },
    {
     "name": "stdout",
     "output_type": "stream",
     "text": [
      "perplexity = 83.47936768753793\n",
      "-----------------------------------------\n",
      "Epoch 4:\n"
     ]
    },
    {
     "name": "stderr",
     "output_type": "stream",
     "text": [
      "100%|██████████| 115/115 [02:08<00:00,  1.12s/it]\n"
     ]
    },
    {
     "name": "stdout",
     "output_type": "stream",
     "text": [
      "calculating perplexity on validation set\n"
     ]
    },
    {
     "name": "stderr",
     "output_type": "stream",
     "text": [
      "100%|██████████| 29/29 [00:13<00:00,  2.09it/s]\n"
     ]
    },
    {
     "name": "stdout",
     "output_type": "stream",
     "text": [
      "perplexity = 83.25106115689655\n",
      "-----------------------------------------\n",
      "Epoch 5:\n"
     ]
    },
    {
     "name": "stderr",
     "output_type": "stream",
     "text": [
      "100%|██████████| 115/115 [02:07<00:00,  1.11s/it]\n"
     ]
    },
    {
     "name": "stdout",
     "output_type": "stream",
     "text": [
      "calculating perplexity on validation set\n"
     ]
    },
    {
     "name": "stderr",
     "output_type": "stream",
     "text": [
      "100%|██████████| 29/29 [00:13<00:00,  2.17it/s]\n"
     ]
    },
    {
     "name": "stdout",
     "output_type": "stream",
     "text": [
      "perplexity = 83.07286143525658\n",
      "-----------------------------------------\n",
      "Epoch 6:\n"
     ]
    },
    {
     "name": "stderr",
     "output_type": "stream",
     "text": [
      "100%|██████████| 115/115 [02:08<00:00,  1.11s/it]\n"
     ]
    },
    {
     "name": "stdout",
     "output_type": "stream",
     "text": [
      "calculating perplexity on validation set\n"
     ]
    },
    {
     "name": "stderr",
     "output_type": "stream",
     "text": [
      "100%|██████████| 29/29 [00:13<00:00,  2.15it/s]\n"
     ]
    },
    {
     "name": "stdout",
     "output_type": "stream",
     "text": [
      "perplexity = 82.92150909056696\n",
      "-----------------------------------------\n",
      "Epoch 7:\n"
     ]
    },
    {
     "name": "stderr",
     "output_type": "stream",
     "text": [
      "100%|██████████| 115/115 [02:07<00:00,  1.11s/it]\n"
     ]
    },
    {
     "name": "stdout",
     "output_type": "stream",
     "text": [
      "calculating perplexity on validation set\n"
     ]
    },
    {
     "name": "stderr",
     "output_type": "stream",
     "text": [
      "100%|██████████| 29/29 [00:13<00:00,  2.16it/s]\n"
     ]
    },
    {
     "name": "stdout",
     "output_type": "stream",
     "text": [
      "perplexity = 82.80192890794827\n",
      "-----------------------------------------\n",
      "Epoch 8:\n"
     ]
    },
    {
     "name": "stderr",
     "output_type": "stream",
     "text": [
      "100%|██████████| 115/115 [02:07<00:00,  1.11s/it]\n"
     ]
    },
    {
     "name": "stdout",
     "output_type": "stream",
     "text": [
      "calculating perplexity on validation set\n"
     ]
    },
    {
     "name": "stderr",
     "output_type": "stream",
     "text": [
      "100%|██████████| 29/29 [00:13<00:00,  2.16it/s]\n"
     ]
    },
    {
     "name": "stdout",
     "output_type": "stream",
     "text": [
      "perplexity = 82.70398944760984\n",
      "-----------------------------------------\n",
      "Epoch 9:\n"
     ]
    },
    {
     "name": "stderr",
     "output_type": "stream",
     "text": [
      "100%|██████████| 115/115 [02:08<00:00,  1.11s/it]\n"
     ]
    },
    {
     "name": "stdout",
     "output_type": "stream",
     "text": [
      "calculating perplexity on validation set\n"
     ]
    },
    {
     "name": "stderr",
     "output_type": "stream",
     "text": [
      "100%|██████████| 29/29 [00:13<00:00,  2.16it/s]\n"
     ]
    },
    {
     "name": "stdout",
     "output_type": "stream",
     "text": [
      "perplexity = 82.61856992301344\n",
      "-----------------------------------------\n",
      "Epoch 10:\n"
     ]
    },
    {
     "name": "stderr",
     "output_type": "stream",
     "text": [
      "100%|██████████| 115/115 [02:06<00:00,  1.10s/it]\n"
     ]
    },
    {
     "name": "stdout",
     "output_type": "stream",
     "text": [
      "calculating perplexity on validation set\n"
     ]
    },
    {
     "name": "stderr",
     "output_type": "stream",
     "text": [
      "100%|██████████| 29/29 [00:13<00:00,  2.15it/s]"
     ]
    },
    {
     "name": "stdout",
     "output_type": "stream",
     "text": [
      "perplexity = 82.55329749603229\n",
      "-----------------------------------------\n"
     ]
    },
    {
     "name": "stderr",
     "output_type": "stream",
     "text": [
      "\n"
     ]
    }
   ],
   "source": [
    "loss_track = []\n",
    "perplexity_track = [init_perplexity]\n",
    "\n",
    "for epoch in range(num_epochs):\n",
    "    print(f\"Epoch {epoch + 1}:\")\n",
    "    model.train()\n",
    "    loss = 0\n",
    "    for batch_start in tqdm(range(0, len(training_data), batch_size)):\n",
    "        batch_end = min(len(training_data), batch_start + batch_size)\n",
    "        cur_batch_size = batch_end - batch_start\n",
    "\n",
    "        tokenized = training_data[batch_start : batch_end]\n",
    "        min_length = np.array([len(t) for t in tokenized]).min()\n",
    "        batch = torch.stack(\n",
    "            [torch.tensor(t[:min_length]) for t in tokenized]\n",
    "        ).to(device)\n",
    "\n",
    "        # use the initialized cell and hidden states repeatedly\n",
    "        hidden_state = (\n",
    "            cell_state.repeat(1, cur_batch_size, 1),\n",
    "            h0_state.repeat(1, cur_batch_size, 1)\n",
    "        )\n",
    "        \n",
    "        for i in range(min_length - 1):\n",
    "            x = batch[:, i][None].T\n",
    "            y_true = batch[:, i+1][None].T\n",
    "            y_pred, hidden_state = model(x, hidden_state)\n",
    "            for pred, true in zip(y_pred, y_true):\n",
    "                loss += cross_entropy(pred.squeeze(), true[0])\n",
    "        \n",
    "        loss_track.append(loss.item()/cur_batch_size)\n",
    "\n",
    "        optimizer.zero_grad()\n",
    "        loss.backward()\n",
    "        optimizer.step()\n",
    "            \n",
    "        model.zero_grad()\n",
    "        loss = 0\n",
    "    \n",
    "    print(\"calculating perplexity on validation set\")\n",
    "    pp = model_utils.perplexity(\n",
    "        model, validation_data, \n",
    "        batch_size=batch_size, consider_length=64, \n",
    "        context_state=(cell_state, h0_state)\n",
    "    )\n",
    "    print(f\"perplexity = {pp}\") \n",
    "    perplexity_track.append(pp)\n",
    "    print(\"-----------------------------------------\")"
   ]
  },
  {
   "cell_type": "code",
   "execution_count": 20,
   "metadata": {},
   "outputs": [],
   "source": [
    "import os\n",
    "import json\n",
    "\n",
    "save_dir = f\"Weights/genre_specific/lstm/{genre}/\"\n",
    "os.makedirs(save_dir, exist_ok=True)\n",
    "\n",
    "torch.save({\"cell_state\": cell_state.detach().cpu(), \"h0_state\": h0_state.detach().cpu()}, f\"{save_dir}/context.pth\")\n",
    "with open(f\"{save_dir}/logs.json\", \"w\") as f:\n",
    "    json.dump({\n",
    "        \"loss_track\": loss_track,\n",
    "        \"perplexity_track\": perplexity_track\n",
    "    }, f)"
   ]
  },
  {
   "cell_type": "code",
   "execution_count": 21,
   "metadata": {},
   "outputs": [
    {
     "data": {
      "text/plain": [
       "Text(0, 0.5, 'Loss')"
      ]
     },
     "execution_count": 21,
     "metadata": {},
     "output_type": "execute_result"
    },
    {
     "data": {
      "image/png": "[encoded data removed]",
      "text/plain": [
       "<Figure size 640x480 with 1 Axes>"
      ]
     },
     "metadata": {},
     "output_type": "display_data"
    }
   ],
   "source": [
    "import matplotlib.pyplot as plt\n",
    "\n",
    "plt.plot(loss_track)\n",
    "plt.ylabel(\"Loss\")"
   ]
  },
  {
   "cell_type": "code",
   "execution_count": 22,
   "metadata": {},
   "outputs": [
    {
     "data": {
      "text/plain": [
       "Text(0.5, 0, 'Epoch')"
      ]
     },
     "execution_count": 22,
     "metadata": {},
     "output_type": "execute_result"
    },
    {
     "data": {
      "image/png": "[encoded data removed]",
      "text/plain": [
       "<Figure size 640x480 with 1 Axes>"
      ]
     },
     "metadata": {},
     "output_type": "display_data"
    }
   ],
   "source": [
    "plt.plot(perplexity_track)\n",
    "plt.ylabel(\"Perplexity\")\n",
    "plt.xlabel(\"Epoch\")"
   ]
  },
  {
   "attachments": {},
   "cell_type": "markdown",
   "metadata": {},
   "source": [
    "## Generation"
   ]
  },
  {
   "cell_type": "code",
   "execution_count": 23,
   "metadata": {},
   "outputs": [
    {
     "data": {
      "text/plain": [
       "(torch.Size([2, 1, 1200]), torch.Size([2, 1, 1200]))"
      ]
     },
     "execution_count": 23,
     "metadata": {},
     "output_type": "execute_result"
    }
   ],
   "source": [
    "context = torch.load(f\"Weights/genre_specific/lstm/{genre}/context.pth\")\n",
    "c0 = context[\"cell_state\"].to(device)\n",
    "h0 = context[\"h0_state\"].to(device)\n",
    "c0.shape, h0.shape"
   ]
  },
  {
   "cell_type": "code",
   "execution_count": 24,
   "metadata": {},
   "outputs": [
    {
     "name": "stdout",
     "output_type": "stream",
     "text": [
      "[('_', 0.068), ('_I', 0.0498), ('_Yeah', 0.0389), ('_(', 0.0226), ('You', 0.0208), ('I', 0.017), ('_Uh', 0.0129), ('_Yo', 0.0129), ('Hey', 0.0125), ('_This', 0.0115)]\n",
      "[(',', 0.6056), ('_', 0.0661), ('_I', 0.0346), ('_Yeah', 0.0326), ('!', 0.0294), ('...', 0.0271), ('_(', 0.0198), ('..', 0.0191), ('_yeah', 0.0189), ('_Uh', 0.0064)]\n",
      "[('_yeah', 0.3919), ('_I', 0.0648), ('_uh', 0.0444), ('_it', 0.0271), ('_you', 0.0258), ('_we', 0.022), ('_yo', 0.0161), ('_nig', 0.0148), ('_that', 0.0147), ('_check', 0.0141)]\n",
      "[(',', 0.4311), ('_', 0.1163), ('_Yeah', 0.1104), ('_yeah', 0.0417), ('_(', 0.0354), ('...', 0.0187), ('..', 0.0173), ('_Uh', 0.0171), ('!', 0.014), ('_I', 0.0087)]\n",
      "[('_I', 0.2033), ('_Yeah', 0.0881), ('_You', 0.0475), ('_It', 0.0328), ('_The', 0.0228), ('_This', 0.0225), ('_Yo', 0.0209), ('_', 0.0172), ('_We', 0.0166), ('_(', 0.0138)]\n",
      "[(',', 0.7978), ('_I', 0.0214), ('_', 0.0176), ('_(', 0.0139), ('_Yeah', 0.0128), ('_yeah', 0.012), ('!', 0.0069), ('...', 0.0066), ('..', 0.0053), ('_you', 0.0039)]\n",
      "[('_yeah', 0.3333), ('_I', 0.1346), ('_you', 0.037), ('_it', 0.0356), ('_we', 0.0331), ('_that', 0.0298), ('_uh', 0.0266), ('_this', 0.0205), ('_nig', 0.0122), ('_the', 0.0117)]\n",
      "[(',', 0.6195), ('_Yeah', 0.0932), ('_', 0.0616), ('_(', 0.037), ('_yeah', 0.0291), ('_I', 0.0115), ('-', 0.0088), ('_Uh', 0.0083), ('_Oh', 0.0061), ('!', 0.0038)]\n",
      "[('_yeah', 0.7212), ('_I', 0.0374), ('_that', 0.0175), ('_you', 0.0132), ('_uh', 0.0109), ('_we', 0.0106), ('_it', 0.0105), ('_and', 0.0069), ('_this', 0.0056), ('_yes', 0.0045)]\n",
      "[(',', 0.627), ('_Yeah', 0.1245), ('_', 0.077), ('_(', 0.0309), ('_yeah', 0.014), ('_I', 0.0095), ('_Oh', 0.0064), ('_Uh', 0.0062), ('_You', 0.0043), ('-', 0.0043)]\n",
      "[('_yeah', 0.8311), ('_I', 0.0118), ('_that', 0.0086), ('_uh', 0.008), ('_you', 0.0065), ('_okay', 0.0053), ('_it', 0.0046), ('_oh', 0.0044), ('_yes', 0.0039), ('_we', 0.0038)]\n",
      "[(',', 0.5449), ('_Yeah', 0.1589), ('_', 0.0924), ('_(', 0.034), ('_I', 0.0133), ('_yeah', 0.0123), ('_Oh', 0.0097), ('_Uh', 0.0063), ('_You', 0.0056), ('!', 0.0037)]\n",
      "[('_yeah', 0.8747), ('_uh', 0.0078), ('_I', 0.0063), ('_okay', 0.0059), ('_oh', 0.0054), ('_that', 0.0045), ('_mm', 0.0043), ('_you', 0.0037), ('_alright', 0.0037), ('_yes', 0.0029)]\n",
      "[(',', 0.4522), ('_Yeah', 0.1939), ('_', 0.1077), ('_(', 0.0371), ('_I', 0.0168), ('_yeah', 0.0138), ('_Oh', 0.0116), ('_Uh', 0.0071), ('_You', 0.0066), ('!', 0.005)]\n",
      "[('_I', 0.2371), ('_Yeah', 0.0858), ('_You', 0.0527), ('_It', 0.0296), ('_The', 0.0199), ('_When', 0.0197), ('_This', 0.0195), ('_We', 0.0182), ('_What', 0.0144), ('_Now', 0.0132)]\n",
      "[('_am', 0.1798), ('_got', 0.0744), ('_was', 0.0391), ('_do', 0.0379), ('_know', 0.0269), ('_have', 0.0264), ('_want', 0.0244), ('_feel', 0.024), ('_just', 0.0214), ('_used', 0.02)]\n",
      "[('_to', 0.8295), ('_you', 0.0495), ('_a', 0.0233), ('_it', 0.0143), ('_some', 0.0106), ('_my', 0.0074), ('_your', 0.0062), ('_the', 0.0062), ('_this', 0.0058), ('_that', 0.0049)]\n",
      "[('_to', 0.7103), (',', 0.0532), ('_so', 0.0366), ('_all', 0.0211), ('_I', 0.011), ('_in', 0.0107), ('_back', 0.01), ('_like', 0.0087), ('_and', 0.0082), ('_for', 0.0062)]\n",
      "[('_know', 0.1396), ('_be', 0.0827), ('_want', 0.0418), ('_feel', 0.032), ('_see', 0.0312), ('_make', 0.0243), ('_get', 0.023), ('_tell', 0.0182), ('_hear', 0.0181), ('_take', 0.0175)]\n",
      "[('_me', 0.7127), ('_you', 0.1334), ('_my', 0.0183), ('_that', 0.0141), ('_the', 0.0139), ('_it', 0.0116), ('_ya', 0.0088), (',', 0.007), ('_your', 0.0059), ('_her', 0.0059)]\n",
      "[('_that', 0.1693), (',', 0.1174), ('_you', 0.0928), ('_what', 0.0913), ('_I', 0.0643), ('_how', 0.0478), ('_why', 0.0417), ('_about', 0.026), ('_to', 0.0239), ('_when', 0.0231)]\n",
      "[('_want', 0.2469), ('_am', 0.226), ('_love', 0.1284), ('_need', 0.0448), ('_got', 0.0376), ('_do', 0.0296), ('_was', 0.0239), ('_will', 0.0236), ('_really', 0.0165), ('_have', 0.015)]\n",
      "[('_to', 0.6805), ('_you', 0.2143), ('_it', 0.0226), ('_a', 0.0115), ('_your', 0.0089), ('_the', 0.0056), ('_ya', 0.0053), ('_this', 0.005), ('_my', 0.0034), ('_me', 0.0026)]\n",
      "[('_be', 0.0863), ('_go', 0.0536), ('_tell', 0.0455), ('_love', 0.044), ('_dance', 0.0374), ('_know', 0.0355), ('_make', 0.03), ('_talk', 0.0297), ('_see', 0.0295), ('_give', 0.027)]\n",
      "[('_to', 0.2884), ('_about', 0.24), (',', 0.0551), ('_you', 0.0492), ('_I', 0.0196), ('_it', 0.0168), ('_with', 0.0146), (\"_'\", 0.0141), ('_this', 0.0136), ('_around', 0.0135)]\n",
      "[('_I', 0.2312), ('_but', 0.1345), ('_you', 0.0601), ('_yeah', 0.0507), ('_\"', 0.0372), ('_baby', 0.0295), ('_and', 0.0237), ('_so', 0.0174), ('_to', 0.017), ('_because', 0.0136)]\n",
      "[('_I', 0.5117), ('_you', 0.1709), ('_it', 0.0311), ('_what', 0.0156), (',', 0.0142), ('_that', 0.0118), ('_when', 0.0113), ('_if', 0.0108), ('_they', 0.0102), ('_the', 0.0091)]\n",
      "[('_want', 0.3186), ('_do', 0.0818), ('_am', 0.0758), ('_just', 0.0498), ('_cannot', 0.0404), ('_love', 0.0385), ('_got', 0.0356), ('_need', 0.0284), ('_know', 0.0261), ('_think', 0.0192)]\n",
      "[('_to', 0.8788), ('_you', 0.0426), ('_it', 0.0205), ('_a', 0.0057), ('_that', 0.0035), ('_your', 0.0033), ('_some', 0.0028), ('_the', 0.0027), ('_more', 0.0027), ('_ya', 0.0023)]\n",
      "[('_tell', 0.0505), ('_fuck', 0.0474), ('_be', 0.0462), ('_talk', 0.0394), ('_dance', 0.0374), ('_get', 0.0367), ('_go', 0.0342), ('_love', 0.0271), ('_make', 0.0259), ('_see', 0.0242)]\n",
      "[('_your', 0.101), ('_the', 0.0589), ('_a', 0.0441), ('_with', 0.0358), ('_there', 0.0244), ('_my', 0.0223), ('_free', 0.0222), ('_loved', 0.021), ('_honest', 0.0201), ('_so', 0.0184)]\n",
      "[('_fool', 0.0878), ('_little', 0.0603), ('_man', 0.0334), ('_millionaire', 0.0329), ('_good', 0.0293), ('_friend', 0.0216), ('_slave', 0.0187), ('_freak', 0.018), ('_woman', 0.0155), ('_real', 0.0147)]\n",
      "[('_I', 0.2267), ('_But', 0.0607), ('_for', 0.0474), (',', 0.0361), ('_And', 0.0283), ('_to', 0.0268), ('_You', 0.0211), ('_When', 0.0181), ('_So', 0.0178), ('_(', 0.0148)]\n",
      "[('_you', 0.5382), ('_ya', 0.0515), ('_me', 0.0371), ('_a', 0.0349), ('_love', 0.0334), ('_the', 0.0226), ('_your', 0.0218), ('_somebody', 0.0191), ('_this', 0.0183), ('_something', 0.0118)]\n",
      "[('_while', 0.0395), ('_minute', 0.0366), ('_girl', 0.033), ('_fool', 0.0321), ('_man', 0.031), ('_little', 0.0287), ('_ride', 0.028), ('_woman', 0.0257), ('_good', 0.02), ('_rock', 0.0185)]\n",
      "[('_I', 0.238), ('_But', 0.0825), ('_And', 0.0449), (',', 0.0415), ('_You', 0.0354), ('_(', 0.0302), ('_When', 0.0254), ('_Because', 0.0183), ('_Want', 0.0169), ('_Yeah', 0.0164)]\n",
      "[('_want', 0.3307), ('_got', 0.0785), ('_do', 0.0776), ('_am', 0.0522), ('_just', 0.0464), ('_will', 0.0254), ('_have', 0.0194), ('_think', 0.0189), ('_get', 0.0174), ('_cannot', 0.0147)]\n",
      "[('_to', 0.9376), ('_you', 0.014), ('_a', 0.0134), ('_some', 0.0038), ('_it', 0.0037), ('_your', 0.0016), ('_ya', 0.0016), (',', 0.0015), ('_somebody', 0.0014), ('_that', 0.0014)]\n",
      "[('_be', 0.1949), ('_tell', 0.0683), ('_get', 0.0483), ('_make', 0.0358), ('_love', 0.0315), ('_dance', 0.0308), ('_see', 0.0297), ('_fuck', 0.0264), ('_go', 0.025), ('_give', 0.0185)]\n",
      "[('_a', 0.136), ('_your', 0.0921), ('_the', 0.0906), ('_with', 0.0458), ('_loved', 0.0374), ('_there', 0.0304), ('_in', 0.0267), ('_my', 0.0246), (',', 0.0236), ('_so', 0.0165)]\n",
      "[('_girlfriend', 0.0797), ('_main', 0.0717), ('_boyfriend', 0.0309), ('_friend', 0.0283), ('_man', 0.0277), ('_baby', 0.0247), ('_superhero', 0.02), ('_best', 0.0197), ('_kind', 0.0179), ('_boss', 0.0176)]\n",
      "[(',', 0.531), ('_and', 0.1079), ('_I', 0.0476), ('_when', 0.0211), ('_because', 0.0133), ('_with', 0.009), ('_but', 0.0089), ('_you', 0.0086), (\"'s\", 0.008), ('_who', 0.008)]\n",
      "[('_is', 0.2718), ('_you', 0.1188), ('_I', 0.1109), ('a', 0.0377), (',', 0.0296), ('_will', 0.0289), ('_want', 0.0236), ('_do', 0.0152), ('_are', 0.0134), ('_loves', 0.0127)]\n",
      "[('_to', 0.9128), ('_you', 0.0384), ('_me', 0.0073), ('_ya', 0.0049), ('_your', 0.0043), ('_a', 0.0041), ('_some', 0.0036), ('_that', 0.0031), ('_my', 0.0016), ('_I', 0.0016)]\n",
      "[('_be', 0.2777), ('_give', 0.0418), ('_get', 0.0334), ('_make', 0.0331), ('_love', 0.0331), ('_take', 0.027), ('_know', 0.0223), ('_fuck', 0.0201), ('_see', 0.0193), ('_dance', 0.0165)]\n",
      "[('_your', 0.2623), ('_the', 0.1364), ('_my', 0.0991), ('_a', 0.0596), ('_with', 0.0483), ('_that', 0.0223), ('_in', 0.0213), (',', 0.0164), ('?', 0.0143), ('_loved', 0.0141)]\n",
      "[('_girlfriend', 0.0672), ('_friend', 0.0627), ('_main', 0.0502), ('_man', 0.0369), ('_girl', 0.0261), ('_boyfriend', 0.0255), ('_boss', 0.0234), ('_best', 0.0215), ('_baby', 0.0165), ('_kind', 0.0151)]\n",
      "[('_I', 0.1748), ('?', 0.1146), (',', 0.0702), ('_And', 0.0438), ('_But', 0.0304), ('_and', 0.0257), ('_You', 0.0184), ('_When', 0.0156), ('_Want', 0.014), ('_for', 0.014)]\n",
      "[('_want', 0.462), ('_am', 0.0869), ('_got', 0.0599), ('_just', 0.0429), ('_will', 0.0293), ('_do', 0.0286), ('_are', 0.0194), ('_need', 0.0178), ('_know', 0.0141), ('_can', 0.0138)]\n",
      "[('_to', 0.9161), ('_you', 0.0224), ('_a', 0.0118), ('_it', 0.0052), ('_some', 0.0047), ('_your', 0.0046), ('_ya', 0.0042), ('_the', 0.0027), ('_that', 0.0024), (',', 0.002)]\n"
     ]
    },
    {
     "data": {
      "text/plain": [
       "' Yeah, yeah  Yeah, yeah, yeah, yeah, yeah  I want you to tell me I want to talk, but I want to be a fool for a while I want to be your boyfriend who want to be your boss I want a Yeah, yeah  Yeah, yeah, yeah, yeah, yeah  I want you to tell me I want to talk, but I want to be a fool for a while I want to be your boyfriend who want to be your boss I want a'"
      ]
     },
     "execution_count": 24,
     "metadata": {},
     "output_type": "execute_result"
    }
   ],
   "source": [
    "from modeling.model_utils import generate\n",
    "\n",
    "gen_lyrics = generate(model, tokenizer, top_k = 10, max_new_tokens=50, debug = True, context_state=(c0, h0))\n",
    "gen_lyrics[\"text\"]"
   ]
  },
  {
   "cell_type": "code",
   "execution_count": 25,
   "metadata": {},
   "outputs": [],
   "source": [
    "generated_lyrics = [\n",
    "    generate(model, tokenizer, top_k = 10, max_new_tokens=50, context_state=(c0, h0))[\"text\"]\n",
    "    for _ in range(50)\n",
    "]\n",
    "\n",
    "os.makedirs(\"Results/genre_specific/lstm/\", exist_ok=True)\n",
    "with open(f\"Results/genre_specific/lstm/{genre}.json\", \"w\") as f:\n",
    "    json.dump(generated_lyrics, f)"
   ]
  },
  {
   "cell_type": "code",
   "execution_count": null,
   "metadata": {},
   "outputs": [],
   "source": []
  }
 ],
 "metadata": {
  "kernelspec": {
   "display_name": "tensorflow",
   "language": "python",
   "name": "python3"
  },
  "language_info": {
   "codemirror_mode": {
    "name": "ipython",
    "version": 3
   },
   "file_extension": ".py",
   "mimetype": "text/x-python",
   "name": "python",
   "nbconvert_exporter": "python",
   "pygments_lexer": "ipython3",
   "version": "3.9.16"
  }
 },
 "nbformat": 4,
 "nbformat_minor": 2
}
